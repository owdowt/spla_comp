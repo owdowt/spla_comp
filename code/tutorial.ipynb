{
 "cells": [
  {
   "cell_type": "code",
   "execution_count": 1,
   "metadata": {},
   "outputs": [
    {
     "output_type": "stream",
     "name": "stdout",
     "text": "Python 3.6.8\n0.25.2\n1.17.3\n0.21.3\n3.1.1\n"
    }
   ],
   "source": [
    "#環境確認\n",
    "import pandas as pd\n",
    "import numpy as np\n",
    "import sklearn\n",
    "!python3 --version\n",
    "print(pd.__version__)\n",
    "print(np.__version__)\n",
    "print(sklearn.__version__)\n",
    "import matplotlib\n",
    "print(matplotlib.__version__)"
   ]
  },
  {
   "cell_type": "code",
   "execution_count": 7,
   "metadata": {},
   "outputs": [],
   "source": [
    "import pandas as pd\n"
   ]
  },
  {
   "cell_type": "code",
   "execution_count": 8,
   "metadata": {},
   "outputs": [],
   "source": [
    "pd.set_option('display.max_columns', 50)\n"
   ]
  },
  {
   "cell_type": "markdown",
   "metadata": {},
   "source": [
    "# Path"
   ]
  },
  {
   "cell_type": "code",
   "execution_count": 27,
   "metadata": {},
   "outputs": [],
   "source": [
    "train_path = '../data/row/train_data.csv'\n",
    "test_path = '../data/row/test_data.csv'\n",
    "output_path = '../output/submission.csv'  # TODO: 日次情報を付与する"
   ]
  },
  {
   "cell_type": "markdown",
   "metadata": {},
   "source": [
    "# Main"
   ]
  },
  {
   "cell_type": "code",
   "execution_count": 3,
   "metadata": {},
   "outputs": [
    {
     "output_type": "stream",
     "name": "stdout",
     "text": "(66125, 31)\n"
    }
   ],
   "source": [
    "train_data = pd.read_csv(train_path, index_col='id')\n",
    "print(train_data.shape)"
   ]
  },
  {
   "cell_type": "code",
   "execution_count": 10,
   "metadata": {},
   "outputs": [
    {
     "output_type": "execute_result",
     "data": {
      "text/plain": "                       period game-ver lobby-mode     lobby      mode  \\\nid                                                                      \n1   2019-10-15T20:00:00+00:00    5.0.1    regular  standard  nawabari   \n2   2019-12-14T04:00:00+00:00    5.0.1    regular  standard  nawabari   \n3   2019-12-25T14:00:00+00:00    5.0.1      gachi  standard      hoko   \n4   2019-11-11T14:00:00+00:00    5.0.1    regular  standard  nawabari   \n5   2019-12-14T06:00:00+00:00    5.0.1      gachi  standard      hoko   \n\n      stage            A1-weapon A1-rank  A1-level           A2-weapon  \\\nid                                                                       \n1   sumeshi      sshooter_becchu     NaN       139     soytuber_custom   \n2   arowana  parashelter_sorella     NaN       198          jetsweeper   \n3       ama               nzap89      a-       114    quadhopper_black   \n4    engawa          bamboo14mk1     NaN       336  splatroller_becchu   \n5   chozame               bold_7       x       299          hissen_hue   \n\n   A2-rank  A2-level            A3-weapon A3-rank  A3-level     A4-weapon  \\\nid                                                                          \n1      NaN     118.0            pablo_hue     NaN      13.0       hokusai   \n2      NaN      77.0  campingshelter_camo     NaN     198.0        nzap85   \n3        a      68.0         prime_becchu       a     225.0    jetsweeper   \n4      NaN     131.0         dynamo_tesla     NaN     189.0  prime_becchu   \n5        x      97.0          h3reelgun_d       x      96.0   splatroller   \n\n   A4-rank  A4-level            B1-weapon B1-rank  B1-level       B2-weapon  \\\nid                                                                            \n1      NaN      10.0               bold_7     NaN        28  hokusai_becchu   \n2      NaN     123.0               momiji     NaN        83     squiclean_b   \n3        a     107.0               bold_7      a-        50          nzap85   \n4      NaN      41.0  splatcharger_becchu     NaN       273         liter4k   \n5        x     136.0                 furo       x       101    sputtery_hue   \n\n   B2-rank  B2-level            B3-weapon B3-rank  B3-level  \\\nid                                                            \n1      NaN      26.0  herocharger_replica     NaN      68.0   \n2      NaN     118.0       campingshelter     NaN     168.0   \n3       a+     163.0         prime_becchu      a-     160.0   \n4      NaN     189.0        promodeler_mg     NaN     194.0   \n5        x      45.0   bucketslosher_soda       x     246.0   \n\n             B4-weapon B4-rank  B4-level  y  \nid                                           \n1            sharp_neo     NaN      31.0  1  \n2       sputtery_clear     NaN     151.0  0  \n3   dualsweeper_custom       a     126.0  0  \n4    hotblaster_custom     NaN     391.0  0  \n5               wakaba       x     160.0  1  ",
      "text/html": "<div>\n<style scoped>\n    .dataframe tbody tr th:only-of-type {\n        vertical-align: middle;\n    }\n\n    .dataframe tbody tr th {\n        vertical-align: top;\n    }\n\n    .dataframe thead th {\n        text-align: right;\n    }\n</style>\n<table border=\"1\" class=\"dataframe\">\n  <thead>\n    <tr style=\"text-align: right;\">\n      <th></th>\n      <th>period</th>\n      <th>game-ver</th>\n      <th>lobby-mode</th>\n      <th>lobby</th>\n      <th>mode</th>\n      <th>stage</th>\n      <th>A1-weapon</th>\n      <th>A1-rank</th>\n      <th>A1-level</th>\n      <th>A2-weapon</th>\n      <th>A2-rank</th>\n      <th>A2-level</th>\n      <th>A3-weapon</th>\n      <th>A3-rank</th>\n      <th>A3-level</th>\n      <th>A4-weapon</th>\n      <th>A4-rank</th>\n      <th>A4-level</th>\n      <th>B1-weapon</th>\n      <th>B1-rank</th>\n      <th>B1-level</th>\n      <th>B2-weapon</th>\n      <th>B2-rank</th>\n      <th>B2-level</th>\n      <th>B3-weapon</th>\n      <th>B3-rank</th>\n      <th>B3-level</th>\n      <th>B4-weapon</th>\n      <th>B4-rank</th>\n      <th>B4-level</th>\n      <th>y</th>\n    </tr>\n    <tr>\n      <th>id</th>\n      <th></th>\n      <th></th>\n      <th></th>\n      <th></th>\n      <th></th>\n      <th></th>\n      <th></th>\n      <th></th>\n      <th></th>\n      <th></th>\n      <th></th>\n      <th></th>\n      <th></th>\n      <th></th>\n      <th></th>\n      <th></th>\n      <th></th>\n      <th></th>\n      <th></th>\n      <th></th>\n      <th></th>\n      <th></th>\n      <th></th>\n      <th></th>\n      <th></th>\n      <th></th>\n      <th></th>\n      <th></th>\n      <th></th>\n      <th></th>\n      <th></th>\n    </tr>\n  </thead>\n  <tbody>\n    <tr>\n      <th>1</th>\n      <td>2019-10-15T20:00:00+00:00</td>\n      <td>5.0.1</td>\n      <td>regular</td>\n      <td>standard</td>\n      <td>nawabari</td>\n      <td>sumeshi</td>\n      <td>sshooter_becchu</td>\n      <td>NaN</td>\n      <td>139</td>\n      <td>soytuber_custom</td>\n      <td>NaN</td>\n      <td>118.0</td>\n      <td>pablo_hue</td>\n      <td>NaN</td>\n      <td>13.0</td>\n      <td>hokusai</td>\n      <td>NaN</td>\n      <td>10.0</td>\n      <td>bold_7</td>\n      <td>NaN</td>\n      <td>28</td>\n      <td>hokusai_becchu</td>\n      <td>NaN</td>\n      <td>26.0</td>\n      <td>herocharger_replica</td>\n      <td>NaN</td>\n      <td>68.0</td>\n      <td>sharp_neo</td>\n      <td>NaN</td>\n      <td>31.0</td>\n      <td>1</td>\n    </tr>\n    <tr>\n      <th>2</th>\n      <td>2019-12-14T04:00:00+00:00</td>\n      <td>5.0.1</td>\n      <td>regular</td>\n      <td>standard</td>\n      <td>nawabari</td>\n      <td>arowana</td>\n      <td>parashelter_sorella</td>\n      <td>NaN</td>\n      <td>198</td>\n      <td>jetsweeper</td>\n      <td>NaN</td>\n      <td>77.0</td>\n      <td>campingshelter_camo</td>\n      <td>NaN</td>\n      <td>198.0</td>\n      <td>nzap85</td>\n      <td>NaN</td>\n      <td>123.0</td>\n      <td>momiji</td>\n      <td>NaN</td>\n      <td>83</td>\n      <td>squiclean_b</td>\n      <td>NaN</td>\n      <td>118.0</td>\n      <td>campingshelter</td>\n      <td>NaN</td>\n      <td>168.0</td>\n      <td>sputtery_clear</td>\n      <td>NaN</td>\n      <td>151.0</td>\n      <td>0</td>\n    </tr>\n    <tr>\n      <th>3</th>\n      <td>2019-12-25T14:00:00+00:00</td>\n      <td>5.0.1</td>\n      <td>gachi</td>\n      <td>standard</td>\n      <td>hoko</td>\n      <td>ama</td>\n      <td>nzap89</td>\n      <td>a-</td>\n      <td>114</td>\n      <td>quadhopper_black</td>\n      <td>a</td>\n      <td>68.0</td>\n      <td>prime_becchu</td>\n      <td>a</td>\n      <td>225.0</td>\n      <td>jetsweeper</td>\n      <td>a</td>\n      <td>107.0</td>\n      <td>bold_7</td>\n      <td>a-</td>\n      <td>50</td>\n      <td>nzap85</td>\n      <td>a+</td>\n      <td>163.0</td>\n      <td>prime_becchu</td>\n      <td>a-</td>\n      <td>160.0</td>\n      <td>dualsweeper_custom</td>\n      <td>a</td>\n      <td>126.0</td>\n      <td>0</td>\n    </tr>\n    <tr>\n      <th>4</th>\n      <td>2019-11-11T14:00:00+00:00</td>\n      <td>5.0.1</td>\n      <td>regular</td>\n      <td>standard</td>\n      <td>nawabari</td>\n      <td>engawa</td>\n      <td>bamboo14mk1</td>\n      <td>NaN</td>\n      <td>336</td>\n      <td>splatroller_becchu</td>\n      <td>NaN</td>\n      <td>131.0</td>\n      <td>dynamo_tesla</td>\n      <td>NaN</td>\n      <td>189.0</td>\n      <td>prime_becchu</td>\n      <td>NaN</td>\n      <td>41.0</td>\n      <td>splatcharger_becchu</td>\n      <td>NaN</td>\n      <td>273</td>\n      <td>liter4k</td>\n      <td>NaN</td>\n      <td>189.0</td>\n      <td>promodeler_mg</td>\n      <td>NaN</td>\n      <td>194.0</td>\n      <td>hotblaster_custom</td>\n      <td>NaN</td>\n      <td>391.0</td>\n      <td>0</td>\n    </tr>\n    <tr>\n      <th>5</th>\n      <td>2019-12-14T06:00:00+00:00</td>\n      <td>5.0.1</td>\n      <td>gachi</td>\n      <td>standard</td>\n      <td>hoko</td>\n      <td>chozame</td>\n      <td>bold_7</td>\n      <td>x</td>\n      <td>299</td>\n      <td>hissen_hue</td>\n      <td>x</td>\n      <td>97.0</td>\n      <td>h3reelgun_d</td>\n      <td>x</td>\n      <td>96.0</td>\n      <td>splatroller</td>\n      <td>x</td>\n      <td>136.0</td>\n      <td>furo</td>\n      <td>x</td>\n      <td>101</td>\n      <td>sputtery_hue</td>\n      <td>x</td>\n      <td>45.0</td>\n      <td>bucketslosher_soda</td>\n      <td>x</td>\n      <td>246.0</td>\n      <td>wakaba</td>\n      <td>x</td>\n      <td>160.0</td>\n      <td>1</td>\n    </tr>\n  </tbody>\n</table>\n</div>"
     },
     "metadata": {},
     "execution_count": 10
    }
   ],
   "source": [
    "train_data.head()"
   ]
  },
  {
   "cell_type": "code",
   "execution_count": null,
   "metadata": {},
   "outputs": [],
   "source": []
  },
  {
   "cell_type": "code",
   "execution_count": 11,
   "metadata": {},
   "outputs": [
    {
     "output_type": "execute_result",
     "data": {
      "text/plain": "(0.524703213610586, 0.47529678638941397)"
     },
     "metadata": {},
     "execution_count": 11
    }
   ],
   "source": [
    "np.sum(train_data['y'] == 1) / train_data['y'].count(), np.sum(train_data['y'] == 0) / train_data['y'].count()"
   ]
  },
  {
   "cell_type": "code",
   "execution_count": 12,
   "metadata": {},
   "outputs": [
    {
     "output_type": "stream",
     "name": "stdout",
     "text": "<class 'pandas.core.frame.DataFrame'>\nInt64Index: 66125 entries, 1 to 66125\nData columns (total 31 columns):\nperiod        66125 non-null object\ngame-ver      66125 non-null object\nlobby-mode    66125 non-null object\nlobby         66125 non-null object\nmode          66125 non-null object\nstage         66125 non-null object\nA1-weapon     66125 non-null object\nA1-rank       51681 non-null object\nA1-level      66125 non-null int64\nA2-weapon     66125 non-null object\nA2-rank       51681 non-null object\nA2-level      66125 non-null float64\nA3-weapon     66125 non-null object\nA3-rank       51681 non-null object\nA3-level      66125 non-null float64\nA4-weapon     66074 non-null object\nA4-rank       51638 non-null object\nA4-level      66074 non-null float64\nB1-weapon     66125 non-null object\nB1-rank       51681 non-null object\nB1-level      66125 non-null int64\nB2-weapon     66125 non-null object\nB2-rank       51681 non-null object\nB2-level      66125 non-null float64\nB3-weapon     66124 non-null object\nB3-rank       51681 non-null object\nB3-level      66124 non-null float64\nB4-weapon     66058 non-null object\nB4-rank       51624 non-null object\nB4-level      66058 non-null float64\ny             66125 non-null int64\ndtypes: float64(6), int64(3), object(22)\nmemory usage: 16.1+ MB\n"
    }
   ],
   "source": [
    "train_data.info()"
   ]
  },
  {
   "cell_type": "code",
   "execution_count": null,
   "metadata": {},
   "outputs": [],
   "source": []
  },
  {
   "cell_type": "code",
   "execution_count": 13,
   "metadata": {},
   "outputs": [],
   "source": [
    "from sklearn.preprocessing import MultiLabelBinarizer\n"
   ]
  },
  {
   "cell_type": "code",
   "execution_count": 14,
   "metadata": {},
   "outputs": [
    {
     "output_type": "execute_result",
     "data": {
      "text/plain": "MultiLabelBinarizer(classes=None, sparse_output=False)"
     },
     "metadata": {},
     "execution_count": 14
    }
   ],
   "source": [
    "mlb = MultiLabelBinarizer()\n",
    "mlb.fit([set(train_data['A1-weapon'].unique())])"
   ]
  },
  {
   "cell_type": "code",
   "execution_count": 15,
   "metadata": {},
   "outputs": [],
   "source": [
    "def trans_weapon(df, columns=['A1-weapon', 'A2-weapon', 'A3-weapon', 'A4-weapon']):\n",
    "    weapon = df.fillna('none') \n",
    "    weapon_binarized = mlb.transform(weapon[columns].values)\n",
    "    return pd.DataFrame(weapon_binarized, columns=mlb.classes_)\n",
    "\n",
    "def make_input_output(df, with_y=False):\n",
    "    a_weapon = trans_weapon(df, ['A1-weapon', 'A2-weapon', 'A3-weapon', 'A4-weapon'])\n",
    "    b_weapon = trans_weapon(df, ['B1-weapon', 'B2-weapon', 'B3-weapon', 'B4-weapon'])\n",
    "    X = pd.concat([a_weapon, b_weapon], axis=1)\n",
    "    if with_y:\n",
    "        y = df['y']\n",
    "        return X, y\n",
    "    return X"
   ]
  },
  {
   "cell_type": "code",
   "execution_count": 16,
   "metadata": {},
   "outputs": [],
   "source": [
    "X, y = make_input_output(train_data, with_y=True)\n"
   ]
  },
  {
   "cell_type": "code",
   "execution_count": 17,
   "metadata": {},
   "outputs": [
    {
     "output_type": "execute_result",
     "data": {
      "text/plain": "RandomForestClassifier(bootstrap=True, class_weight=None, criterion='gini',\n                       max_depth=None, max_features='auto', max_leaf_nodes=None,\n                       min_impurity_decrease=0.0, min_impurity_split=None,\n                       min_samples_leaf=1, min_samples_split=2,\n                       min_weight_fraction_leaf=0.0, n_estimators=10,\n                       n_jobs=None, oob_score=False, random_state=None,\n                       verbose=0, warm_start=False)"
     },
     "metadata": {},
     "execution_count": 17
    }
   ],
   "source": [
    "#scikit-learnライブラリをimport\n",
    "import sklearn\n",
    "from sklearn.ensemble import RandomForestClassifier\n",
    "\n",
    "#線形回帰モデルのインスタンス化\n",
    "model = RandomForestClassifier()\n",
    "\n",
    "#予測モデルの作成\n",
    "model.fit(X, y)"
   ]
  },
  {
   "cell_type": "code",
   "execution_count": 18,
   "metadata": {},
   "outputs": [
    {
     "output_type": "execute_result",
     "data": {
      "text/plain": "[(0.013314599057668583, 'prime_becchu'),\n (0.011769650393094667, 'nzap85'),\n (0.011175895171295807, 'splatroller'),\n (0.011155993630886669, 'splatroller'),\n (0.010806409911850213, 'nzap89'),\n (0.010434249835322765, 'wakaba'),\n (0.009831876318619075, 'prime_becchu'),\n (0.009428212004991228, 'nzap89'),\n (0.008862008774840233, 'bold'),\n (0.008823483594600088, 'wakaba')]"
     },
     "metadata": {},
     "execution_count": 18
    }
   ],
   "source": [
    "list(reversed(sorted(list(zip(model.feature_importances_, X.columns)))))[:10]\n"
   ]
  },
  {
   "cell_type": "code",
   "execution_count": 19,
   "metadata": {},
   "outputs": [
    {
     "output_type": "stream",
     "name": "stdout",
     "text": "0.9861776937618147\n"
    }
   ],
   "source": [
    "# accuracyの出力\n",
    "from sklearn.metrics import accuracy_score\n",
    "y_true = y\n",
    "y_pred = model.predict(X)\n",
    "print(accuracy_score(y_true, y_pred))"
   ]
  },
  {
   "cell_type": "code",
   "execution_count": null,
   "metadata": {},
   "outputs": [],
   "source": []
  },
  {
   "cell_type": "code",
   "execution_count": 23,
   "metadata": {},
   "outputs": [
    {
     "output_type": "execute_result",
     "data": {
      "text/plain": "                       period game-ver lobby-mode     lobby    mode  \\\nid                                                                    \n1   2019-12-17T12:00:00+00:00    5.0.1      gachi  standard    area   \n2   2019-11-25T16:00:00+00:00    5.0.1      gachi  standard   asari   \n3   2019-10-22T08:00:00+00:00    5.0.1      gachi  standard    area   \n4   2019-12-30T04:00:00+00:00    5.0.1      gachi  standard   asari   \n5   2019-10-15T16:00:00+00:00    5.0.1      gachi  standard  yagura   \n\n        stage      A1-weapon A1-rank  A1-level             A2-weapon A2-rank  \\\nid                                                                             \n1    hakofugu  prime_collabo       x       174   herospinner_replica       x   \n2     anchovy   prime_becchu      s+       363                nzap89      s+   \n3   mutsugoro      furo_deco       s       116                  bold       s   \n4       devon   prime_becchu      s+       192  splatspinner_collabo      s+   \n5     anchovy    l3reelgun_d       x       267          rapid_becchu       x   \n\n    A2-level           A3-weapon A3-rank  A3-level           A4-weapon  \\\nid                                                                       \n1      130.0              nzap89       x     127.0         nova_becchu   \n2       59.0       dynamo_becchu      s+      36.0        rapid_becchu   \n3      125.0              nzap85       s     124.0              wakaba   \n4      115.0               pablo      s+     171.0  dualsweeper_custom   \n5      223.0  heroroller_replica       x     240.0        hydra_custom   \n\n   A4-rank  A4-level    B1-weapon B1-rank  B1-level           B2-weapon  \\\nid                                                                        \n1        x     233.0         furo       x       160          nautilus47   \n2       s+     225.0         furo      s+       326  dualsweeper_custom   \n3        s     181.0  splatroller       s        76              momiji   \n4       s+     170.0       momiji      s+        90    quadhopper_black   \n5        x     190.0       nzap83       x       259     sshooter_becchu   \n\n   B2-rank  B2-level     B3-weapon B3-rank  B3-level            B4-weapon  \\\nid                                                                          \n1        x     151.0   l3reelgun_d       x     213.0               nzap89   \n2       s+     289.0  prime_becchu      s+     147.0          splatroller   \n3        s     232.0        nzap83       s     183.0        promodeler_pg   \n4       s+     119.0      soytuber      s+     172.0                prime   \n5        x     198.0    splatscope       x      50.0  screwslosher_becchu   \n\n   B4-rank  B4-level  \nid                    \n1        x     306.0  \n2       s+     156.0  \n3        s     105.0  \n4       s+      70.0  \n5        x     287.0  ",
      "text/html": "<div>\n<style scoped>\n    .dataframe tbody tr th:only-of-type {\n        vertical-align: middle;\n    }\n\n    .dataframe tbody tr th {\n        vertical-align: top;\n    }\n\n    .dataframe thead th {\n        text-align: right;\n    }\n</style>\n<table border=\"1\" class=\"dataframe\">\n  <thead>\n    <tr style=\"text-align: right;\">\n      <th></th>\n      <th>period</th>\n      <th>game-ver</th>\n      <th>lobby-mode</th>\n      <th>lobby</th>\n      <th>mode</th>\n      <th>stage</th>\n      <th>A1-weapon</th>\n      <th>A1-rank</th>\n      <th>A1-level</th>\n      <th>A2-weapon</th>\n      <th>A2-rank</th>\n      <th>A2-level</th>\n      <th>A3-weapon</th>\n      <th>A3-rank</th>\n      <th>A3-level</th>\n      <th>A4-weapon</th>\n      <th>A4-rank</th>\n      <th>A4-level</th>\n      <th>B1-weapon</th>\n      <th>B1-rank</th>\n      <th>B1-level</th>\n      <th>B2-weapon</th>\n      <th>B2-rank</th>\n      <th>B2-level</th>\n      <th>B3-weapon</th>\n      <th>B3-rank</th>\n      <th>B3-level</th>\n      <th>B4-weapon</th>\n      <th>B4-rank</th>\n      <th>B4-level</th>\n    </tr>\n    <tr>\n      <th>id</th>\n      <th></th>\n      <th></th>\n      <th></th>\n      <th></th>\n      <th></th>\n      <th></th>\n      <th></th>\n      <th></th>\n      <th></th>\n      <th></th>\n      <th></th>\n      <th></th>\n      <th></th>\n      <th></th>\n      <th></th>\n      <th></th>\n      <th></th>\n      <th></th>\n      <th></th>\n      <th></th>\n      <th></th>\n      <th></th>\n      <th></th>\n      <th></th>\n      <th></th>\n      <th></th>\n      <th></th>\n      <th></th>\n      <th></th>\n      <th></th>\n    </tr>\n  </thead>\n  <tbody>\n    <tr>\n      <th>1</th>\n      <td>2019-12-17T12:00:00+00:00</td>\n      <td>5.0.1</td>\n      <td>gachi</td>\n      <td>standard</td>\n      <td>area</td>\n      <td>hakofugu</td>\n      <td>prime_collabo</td>\n      <td>x</td>\n      <td>174</td>\n      <td>herospinner_replica</td>\n      <td>x</td>\n      <td>130.0</td>\n      <td>nzap89</td>\n      <td>x</td>\n      <td>127.0</td>\n      <td>nova_becchu</td>\n      <td>x</td>\n      <td>233.0</td>\n      <td>furo</td>\n      <td>x</td>\n      <td>160</td>\n      <td>nautilus47</td>\n      <td>x</td>\n      <td>151.0</td>\n      <td>l3reelgun_d</td>\n      <td>x</td>\n      <td>213.0</td>\n      <td>nzap89</td>\n      <td>x</td>\n      <td>306.0</td>\n    </tr>\n    <tr>\n      <th>2</th>\n      <td>2019-11-25T16:00:00+00:00</td>\n      <td>5.0.1</td>\n      <td>gachi</td>\n      <td>standard</td>\n      <td>asari</td>\n      <td>anchovy</td>\n      <td>prime_becchu</td>\n      <td>s+</td>\n      <td>363</td>\n      <td>nzap89</td>\n      <td>s+</td>\n      <td>59.0</td>\n      <td>dynamo_becchu</td>\n      <td>s+</td>\n      <td>36.0</td>\n      <td>rapid_becchu</td>\n      <td>s+</td>\n      <td>225.0</td>\n      <td>furo</td>\n      <td>s+</td>\n      <td>326</td>\n      <td>dualsweeper_custom</td>\n      <td>s+</td>\n      <td>289.0</td>\n      <td>prime_becchu</td>\n      <td>s+</td>\n      <td>147.0</td>\n      <td>splatroller</td>\n      <td>s+</td>\n      <td>156.0</td>\n    </tr>\n    <tr>\n      <th>3</th>\n      <td>2019-10-22T08:00:00+00:00</td>\n      <td>5.0.1</td>\n      <td>gachi</td>\n      <td>standard</td>\n      <td>area</td>\n      <td>mutsugoro</td>\n      <td>furo_deco</td>\n      <td>s</td>\n      <td>116</td>\n      <td>bold</td>\n      <td>s</td>\n      <td>125.0</td>\n      <td>nzap85</td>\n      <td>s</td>\n      <td>124.0</td>\n      <td>wakaba</td>\n      <td>s</td>\n      <td>181.0</td>\n      <td>splatroller</td>\n      <td>s</td>\n      <td>76</td>\n      <td>momiji</td>\n      <td>s</td>\n      <td>232.0</td>\n      <td>nzap83</td>\n      <td>s</td>\n      <td>183.0</td>\n      <td>promodeler_pg</td>\n      <td>s</td>\n      <td>105.0</td>\n    </tr>\n    <tr>\n      <th>4</th>\n      <td>2019-12-30T04:00:00+00:00</td>\n      <td>5.0.1</td>\n      <td>gachi</td>\n      <td>standard</td>\n      <td>asari</td>\n      <td>devon</td>\n      <td>prime_becchu</td>\n      <td>s+</td>\n      <td>192</td>\n      <td>splatspinner_collabo</td>\n      <td>s+</td>\n      <td>115.0</td>\n      <td>pablo</td>\n      <td>s+</td>\n      <td>171.0</td>\n      <td>dualsweeper_custom</td>\n      <td>s+</td>\n      <td>170.0</td>\n      <td>momiji</td>\n      <td>s+</td>\n      <td>90</td>\n      <td>quadhopper_black</td>\n      <td>s+</td>\n      <td>119.0</td>\n      <td>soytuber</td>\n      <td>s+</td>\n      <td>172.0</td>\n      <td>prime</td>\n      <td>s+</td>\n      <td>70.0</td>\n    </tr>\n    <tr>\n      <th>5</th>\n      <td>2019-10-15T16:00:00+00:00</td>\n      <td>5.0.1</td>\n      <td>gachi</td>\n      <td>standard</td>\n      <td>yagura</td>\n      <td>anchovy</td>\n      <td>l3reelgun_d</td>\n      <td>x</td>\n      <td>267</td>\n      <td>rapid_becchu</td>\n      <td>x</td>\n      <td>223.0</td>\n      <td>heroroller_replica</td>\n      <td>x</td>\n      <td>240.0</td>\n      <td>hydra_custom</td>\n      <td>x</td>\n      <td>190.0</td>\n      <td>nzap83</td>\n      <td>x</td>\n      <td>259</td>\n      <td>sshooter_becchu</td>\n      <td>x</td>\n      <td>198.0</td>\n      <td>splatscope</td>\n      <td>x</td>\n      <td>50.0</td>\n      <td>screwslosher_becchu</td>\n      <td>x</td>\n      <td>287.0</td>\n    </tr>\n  </tbody>\n</table>\n</div>"
     },
     "metadata": {},
     "execution_count": 23
    }
   ],
   "source": [
    "test_data = pd.read_csv(test_path, index_col='id')\n",
    "test_data.head()"
   ]
  },
  {
   "cell_type": "code",
   "execution_count": 24,
   "metadata": {},
   "outputs": [],
   "source": [
    "test_X = make_input_output(test_data)"
   ]
  },
  {
   "cell_type": "code",
   "execution_count": 28,
   "metadata": {},
   "outputs": [],
   "source": [
    "#テスト結果の出力\n",
    "test_predicted = model.predict(test_X)\n",
    "submit_df = pd.DataFrame({'y': test_predicted})\n",
    "submit_df.index.name = 'id'\n",
    "submit_df.to_csv(output_path)"
   ]
  },
  {
   "cell_type": "code",
   "execution_count": null,
   "metadata": {},
   "outputs": [],
   "source": []
  }
 ],
 "metadata": {
  "language_info": {
   "codemirror_mode": {
    "name": "ipython",
    "version": 3
   },
   "file_extension": ".py",
   "mimetype": "text/x-python",
   "name": "python",
   "nbconvert_exporter": "python",
   "pygments_lexer": "ipython3",
   "version": 3
  },
  "orig_nbformat": 2,
  "kernelspec": {
   "name": "python_defaultSpec_1597851723906",
   "display_name": "Python 3.6.8 64-bit"
  }
 },
 "nbformat": 4,
 "nbformat_minor": 2
}